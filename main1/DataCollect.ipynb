{
 "cells": [
  {
   "cell_type": "code",
   "execution_count": 24,
   "metadata": {},
   "outputs": [],
   "source": [
    "from bs4 import BeautifulSoup\n",
    "from datetime import datetime, timedelta\n",
    "from selenium import webdriver\n",
    "from selenium.webdriver.common.by import By\n",
    "import re\n",
    "import requests\n",
    "import pymysql\n",
    "from pymysql import IntegrityError, InterfaceError, OperationalError\n",
    "from selenium.common.exceptions import NoSuchElementException\n",
    "import pandas as pd\n",
    "import sys\n",
    "import warnings\n",
    "import schedule, time\n",
    "from sql_info import USER, PASSWORD, DB_NAME\n",
    "\n",
    "\n",
    "warnings.filterwarnings(action = 'ignore')"
   ]
  },
  {
   "cell_type": "code",
   "execution_count": 27,
   "metadata": {},
   "outputs": [],
   "source": [
    "def FindStartDate(conn):\n",
    "\n",
    "    try:\n",
    "        date_query = \"SELECT date FROM reports;\"\n",
    "        date_df = pd.read_sql_query(date_query, conn)\n",
    "        date_df = date_df.sort_values(by = 'date', ascending = False)\n",
    "        \n",
    "        reports_last_date = date_df.iloc[0]['date'] # SQL에 date 타입으로 저장되어 있기 때문에 그대로 가져온다 \n",
    "                                                    # iloc를 통해 인덱스 번호에 상관 없이 가장 위에 있는 데이터를 가져옴\n",
    "        print(reports_last_date)\n",
    "        \n",
    "        if reports_last_date == datetime.today().date():\n",
    "            print('이미 오늘의 데이터가 있기 때문에 탐색을 종료합니다')\n",
    "            sys.exit()\n",
    "\n",
    "\n",
    "        start_date = reports_last_date + timedelta(days = 1)\n",
    "\n",
    "    except IndexError:\n",
    "        start_date = datetime.strptime(\"2022-01-01\", \"%Y-%m-%d\").date()\n",
    "        \n",
    " \n",
    "    return start_date\n",
    "        \n",
    "\n",
    "# 네이버 증권에 접속 -> 해당 기업의 산업 코드 얻기\n",
    "def GetCategory(code):\n",
    "    try:\n",
    "        url = f\"https://finance.naver.com/item/main.naver?code={code}\"\n",
    "        res = requests.get(url)\n",
    "        soup = BeautifulSoup(res.text, \"html.parser\")\n",
    "        category = soup.select_one('div.trade_compare>h4>em>a').text\n",
    "    \n",
    "    except:\n",
    "        category = \"몰?루\"\n",
    "    \n",
    "    finally:\n",
    "        return category \n",
    "\n",
    "# DB_NAME = \"temp2\"\n",
    "\n",
    "def Initialize():\n",
    "    \"\"\"\n",
    "    DB가 이미 있다 -> 해당 DB에 바로 연결만 함(DB가 있다는 이미 테이블까지 있다고 가정)\n",
    "    DB가 없다면 DB_NAME\n",
    "    \"\"\"\n",
    "    \n",
    "    try:\n",
    "        conn = pymysql.connect(host='localhost', user = USER, passwd = PASSWORD, db = DB_NAME, charset = 'utf8')\n",
    "        \n",
    "    except OperationalError:\n",
    "        conn = pymysql.connect(host='localhost', user = USER, passwd = PASSWORD, charset = 'utf8')\n",
    "        curs = conn.cursor()\n",
    "        q = f\"CREATE DATABASE {DB_NAME}\"\n",
    "        curs.execute(q)\n",
    "        q_1 = f\"USE {DB_NAME}\"\n",
    "        curs.execute(q_1)\n",
    "        \n",
    "        # 테이블 설정\n",
    "        reports_q = \"CREATE TABLE reports(reports_idx VARCHAR(20), company VARCHAR(40) NOT NULL, date DATE NOT NULL, written_by VARCHAR(20) NOT NULL,PRIMARY KEY (reports_idx));\"\n",
    "        curs.execute(reports_q)\n",
    "        companies_q = \"CREATE TABLE companies(company VARCHAR(40) NOT NULL, code VARCHAR(6) UNIQUE NOT NULL, category VARCHAR(60), PRIMARY KEY (company));\"\n",
    "        curs.execute(companies_q)\n",
    "\n",
    "    return conn\n",
    "        \n",
    "\n",
    "\n",
    "def CollectDatas():\n",
    "    \n",
    "    # 한경 컨센서스의 보고서에 올라온 기업과 관련된 정보를 탐색 및 SQL에 데이터 저장.\n",
    "\n",
    "    today = datetime.today().date()\n",
    "    \n",
    "    # if db == mysql:\n",
    "        \n",
    "    conn = Initialize() \n",
    "        \n",
    "    start_date = FindStartDate(conn)\n",
    "    # start_date = \"2022-08-01\" # 테스트용 \n",
    "    \n",
    "    get_name = re.compile(\".+?(?=\\()\") # .+만 쓰면 가장 큰 범위부터 탐색해서 매칭하면 끝남. ?을 붙여 reluctant를 이용한다.\n",
    "    get_code = re.compile(\"([0-9]{6})\")\n",
    "    find_idx_code = re.compile('[0-9]+')\n",
    "    \n",
    "    with conn.cursor() as curs:\n",
    "        with webdriver.Chrome('./chromedriver.exe') as driver:\n",
    "            driver.implicitly_wait(2)\n",
    "            \n",
    "            # 페이지 갯수 얻고 시작\n",
    "            driver.get(f'http://hkconsensus.hankyung.com/apps.analysis/analysis.list?sdate={start_date}&edate={today}&now_page=1&search_value=&report_type=UP&pagenum=80&search_text=&business_code=')\n",
    "            pages = driver.find_element(By.CSS_SELECTOR, 'div.paging>a.last').get_attribute('href')\n",
    "            last_page = re.compile('(?<=now_page\\=)[0-9]+').findall(pages)[0] # 후방탐색\n",
    "            \n",
    "            for i in range(1, int(last_page) + 1):\n",
    "                \n",
    "                if i != 1:\n",
    "                    driver.get(f'http://hkconsensus.hankyung.com/apps.analysis/analysis.list?sdate={start_date}&edate={today}&now_page={i}&search_value=&report_type=UP&pagenum=80&search_text=&business_code=')\n",
    "\n",
    "                contents = driver.find_elements(By.CSS_SELECTOR, 'table>tbody>tr')\n",
    "                \n",
    "                for j in contents:\n",
    "                    # 웹 스크래핑\n",
    "                    try:\n",
    "                        \n",
    "                        date = j.find_element(By.CSS_SELECTOR, 'td.txt_number').text\n",
    "                        report_idx = find_idx_code.findall(j.find_element(By.CSS_SELECTOR, 'td.text_l>a').get_attribute('href'))[0]\n",
    "                        report = j.find_element(By.CSS_SELECTOR, 'td.text_l').text\n",
    "                        name = get_name.findall(report)[0]\n",
    "                        code = get_code.findall(report)[0]\n",
    "                        \n",
    "                        category = GetCategory(code) \n",
    "                        made_by = j.find_element(By.CSS_SELECTOR, 'td:nth-child(5)').text\n",
    "\n",
    "\n",
    "                        print(name, code, date, category, made_by, report_idx) \n",
    "                        \n",
    "                        # pymysql에 저장\n",
    "                        query1 = \"INSERT INTO reports(company, date, written_by, reports_idx) VALUES(%s, %s, %s, %s);\"\n",
    "                        curs.execute(query1, (name, date, made_by, report_idx))\n",
    "\n",
    "                        query2 = \"INSERT INTO companies(company, code, category) VALUES(%s, %s, %s);\"\n",
    "                        curs.execute(query2, (name, code, category))\n",
    "                        \n",
    "                        \n",
    "                    except InterfaceError:\n",
    "                        print(\"인터페이스 에러 발생\")\n",
    "\n",
    "                    except IntegrityError:\n",
    "                        pass\n",
    "                    \n",
    "                    except NoSuchElementException: # 이 예외는 올라온 보고서가 없는 경우에도 작동할 거라고 기대할 수 있겠다\n",
    "                        break # 이렇게 둬도 반복문 잘 작동함\n",
    "                    \n",
    "    conn.commit()\n",
    "    conn.close()\n",
    "\n"
   ]
  },
  {
   "cell_type": "code",
   "execution_count": 28,
   "metadata": {},
   "outputs": [
    {
     "name": "stdout",
     "output_type": "stream",
     "text": [
      "2022-08-11\n",
      "이미 오늘의 데이터가 있기 때문에 탐색을 종료합니다\n"
     ]
    },
    {
     "ename": "SystemExit",
     "evalue": "",
     "output_type": "error",
     "traceback": [
      "An exception has occurred, use %tb to see the full traceback.\n",
      "\u001b[1;31mSystemExit\u001b[0m\n"
     ]
    }
   ],
   "source": [
    "CollectDatas()"
   ]
  },
  {
   "cell_type": "markdown",
   "metadata": {},
   "source": []
  },
  {
   "cell_type": "code",
   "execution_count": null,
   "metadata": {},
   "outputs": [
    {
     "ename": "ScheduleValueError",
     "evalue": "Invalid unit (valid units are `days`, `hours`, and `minutes`)",
     "output_type": "error",
     "traceback": [
      "\u001b[1;31m---------------------------------------------------------------------------\u001b[0m",
      "\u001b[1;31mScheduleValueError\u001b[0m                        Traceback (most recent call last)",
      "\u001b[1;32mc:\\Users\\dowra\\OneDrive\\바탕 화면\\Project02 - Hankyung\\main1\\DataCollect.ipynb 셀 4\u001b[0m in \u001b[0;36m<cell line: 1>\u001b[1;34m()\u001b[0m\n\u001b[0;32m      <a href='vscode-notebook-cell:/c%3A/Users/dowra/OneDrive/%EB%B0%94%ED%83%95%20%ED%99%94%EB%A9%B4/Project02%20-%20Hankyung/main1/DataCollect.ipynb#W3sZmlsZQ%3D%3D?line=1'>2</a>\u001b[0m \u001b[39mif\u001b[39;00m datetime\u001b[39m.\u001b[39mtoday()\u001b[39m.\u001b[39mweekday() \u001b[39m<\u001b[39m\u001b[39m=\u001b[39m \u001b[39m4\u001b[39m: \u001b[39m# 평일에만 프로그램을 가동시킴 (5, 6이 토, 일임)\u001b[39;00m\n\u001b[0;32m      <a href='vscode-notebook-cell:/c%3A/Users/dowra/OneDrive/%EB%B0%94%ED%83%95%20%ED%99%94%EB%A9%B4/Project02%20-%20Hankyung/main1/DataCollect.ipynb#W3sZmlsZQ%3D%3D?line=3'>4</a>\u001b[0m     count \u001b[39m=\u001b[39m \u001b[39m0\u001b[39m\n\u001b[1;32m----> <a href='vscode-notebook-cell:/c%3A/Users/dowra/OneDrive/%EB%B0%94%ED%83%95%20%ED%99%94%EB%A9%B4/Project02%20-%20Hankyung/main1/DataCollect.ipynb#W3sZmlsZQ%3D%3D?line=4'>5</a>\u001b[0m     schedule\u001b[39m.\u001b[39;49mevery()\u001b[39m.\u001b[39;49mat(\u001b[39m\"\u001b[39;49m\u001b[39m20:00\u001b[39;49m\u001b[39m\"\u001b[39;49m)\u001b[39m.\u001b[39mdo(CollectDatas())\n\u001b[0;32m      <a href='vscode-notebook-cell:/c%3A/Users/dowra/OneDrive/%EB%B0%94%ED%83%95%20%ED%99%94%EB%A9%B4/Project02%20-%20Hankyung/main1/DataCollect.ipynb#W3sZmlsZQ%3D%3D?line=6'>7</a>\u001b[0m     \u001b[39mwhile\u001b[39;00m \u001b[39mTrue\u001b[39;00m:\n\u001b[0;32m      <a href='vscode-notebook-cell:/c%3A/Users/dowra/OneDrive/%EB%B0%94%ED%83%95%20%ED%99%94%EB%A9%B4/Project02%20-%20Hankyung/main1/DataCollect.ipynb#W3sZmlsZQ%3D%3D?line=8'>9</a>\u001b[0m         schedule\u001b[39m.\u001b[39mrun_pending()\n",
      "File \u001b[1;32mc:\\Users\\dowra\\OneDrive\\바탕 화면\\Project02 - Hankyung\\venv\\lib\\site-packages\\schedule\\__init__.py:478\u001b[0m, in \u001b[0;36mJob.at\u001b[1;34m(self, time_str)\u001b[0m\n\u001b[0;32m    459\u001b[0m \u001b[39m\"\"\"\u001b[39;00m\n\u001b[0;32m    460\u001b[0m \u001b[39mSpecify a particular time that the job should be run at.\u001b[39;00m\n\u001b[0;32m    461\u001b[0m \n\u001b[1;32m   (...)\u001b[0m\n\u001b[0;32m    475\u001b[0m \u001b[39m:return: The invoked job instance\u001b[39;00m\n\u001b[0;32m    476\u001b[0m \u001b[39m\"\"\"\u001b[39;00m\n\u001b[0;32m    477\u001b[0m \u001b[39mif\u001b[39;00m \u001b[39mself\u001b[39m\u001b[39m.\u001b[39munit \u001b[39mnot\u001b[39;00m \u001b[39min\u001b[39;00m (\u001b[39m\"\u001b[39m\u001b[39mdays\u001b[39m\u001b[39m\"\u001b[39m, \u001b[39m\"\u001b[39m\u001b[39mhours\u001b[39m\u001b[39m\"\u001b[39m, \u001b[39m\"\u001b[39m\u001b[39mminutes\u001b[39m\u001b[39m\"\u001b[39m) \u001b[39mand\u001b[39;00m \u001b[39mnot\u001b[39;00m \u001b[39mself\u001b[39m\u001b[39m.\u001b[39mstart_day:\n\u001b[1;32m--> 478\u001b[0m     \u001b[39mraise\u001b[39;00m ScheduleValueError(\n\u001b[0;32m    479\u001b[0m         \u001b[39m\"\u001b[39m\u001b[39mInvalid unit (valid units are `days`, `hours`, and `minutes`)\u001b[39m\u001b[39m\"\u001b[39m\n\u001b[0;32m    480\u001b[0m     )\n\u001b[0;32m    481\u001b[0m \u001b[39mif\u001b[39;00m \u001b[39mnot\u001b[39;00m \u001b[39misinstance\u001b[39m(time_str, \u001b[39mstr\u001b[39m):\n\u001b[0;32m    482\u001b[0m     \u001b[39mraise\u001b[39;00m \u001b[39mTypeError\u001b[39;00m(\u001b[39m\"\u001b[39m\u001b[39mat() should be passed a string\u001b[39m\u001b[39m\"\u001b[39m)\n",
      "\u001b[1;31mScheduleValueError\u001b[0m: Invalid unit (valid units are `days`, `hours`, and `minutes`)"
     ]
    }
   ],
   "source": [
    "# 자동 실행 지정\n",
    "# if __name__ == \"__main__\":\n",
    "#     if datetime.today().weekday() <= 4: # 평일에만 프로그램을 가동시킴 (5, 6이 토, 일임)\n",
    "        \n",
    "#         count = 0\n",
    "#         schedule.every().at(\"20:00\").do(CollectDatas())\n",
    "        \n",
    "#         while True:\n",
    "            \n",
    "#             schedule.run_pending()\n",
    "#             time.sleep(1)\n",
    "            "
   ]
  },
  {
   "cell_type": "code",
   "execution_count": 23,
   "metadata": {},
   "outputs": [
    {
     "name": "stderr",
     "output_type": "stream",
     "text": [
      "[NbConvertApp] Converting notebook DataCollect.ipynb to script\n",
      "[NbConvertApp] Writing 5125 bytes to DataCollect.py\n"
     ]
    }
   ],
   "source": [
    "# 파이썬 파일로 변환\n",
    "# !jupyter nbconvert --to script DataCollect.ipynb "
   ]
  },
  {
   "cell_type": "code",
   "execution_count": 19,
   "metadata": {},
   "outputs": [
    {
     "name": "stdout",
     "output_type": "stream",
     "text": [
      "12\n"
     ]
    }
   ],
   "source": []
  },
  {
   "cell_type": "code",
   "execution_count": null,
   "metadata": {},
   "outputs": [],
   "source": []
  }
 ],
 "metadata": {
  "kernelspec": {
   "display_name": "Python 3.10.4 ('venv': venv)",
   "language": "python",
   "name": "python3"
  },
  "language_info": {
   "codemirror_mode": {
    "name": "ipython",
    "version": 3
   },
   "file_extension": ".py",
   "mimetype": "text/x-python",
   "name": "python",
   "nbconvert_exporter": "python",
   "pygments_lexer": "ipython3",
   "version": "3.10.4"
  },
  "orig_nbformat": 4,
  "vscode": {
   "interpreter": {
    "hash": "c83034efb150ce4d3c12c4c640c9c02f95776738a71f3dcb04f5569bfa9d69be"
   }
  }
 },
 "nbformat": 4,
 "nbformat_minor": 2
}

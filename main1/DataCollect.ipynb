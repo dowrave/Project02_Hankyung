{
 "cells": [
  {
   "cell_type": "code",
   "execution_count": 56,
   "metadata": {},
   "outputs": [],
   "source": [
    "from bs4 import BeautifulSoup\n",
    "from datetime import datetime\n",
    "from selenium import webdriver\n",
    "from selenium.webdriver.common.by import By\n",
    "import re"
   ]
  },
  {
   "cell_type": "code",
   "execution_count": 58,
   "metadata": {},
   "outputs": [
    {
     "name": "stderr",
     "output_type": "stream",
     "text": [
      "C:\\Users\\dowra\\AppData\\Local\\Temp\\ipykernel_14180\\1092902125.py:4: DeprecationWarning: executable_path has been deprecated, please pass in a Service object\n",
      "  driver = webdriver.Chrome('./chromedriver.exe')\n"
     ]
    },
    {
     "name": "stdout",
     "output_type": "stream",
     "text": [
      "2022-08-03 한국타이어앤테크놀로지 161390 메리츠증권\n",
      "2022-05-26 코스맥스 192820 메리츠증권\n"
     ]
    }
   ],
   "source": [
    "get_name = re.compile(\".+(?=\\()\")\n",
    "get_code = re.compile(\"([0-9]{6})\")\n",
    "\n",
    "driver = webdriver.Chrome('./chromedriver.exe')\n",
    "driver.implicitly_wait(2)\n",
    "for i in range(1, 3):\n",
    "    driver.get(f'http://hkconsensus.hankyung.com/apps.analysis/analysis.list?sdate=2022-05-01&edate=2022-08-03&now_page={i}&search_value=&report_type=UP&pagenum=80&search_text=&business_code=')\n",
    "\n",
    "    contents = driver.find_elements(By.CSS_SELECTOR, 'table>tbody tr')\n",
    "    \n",
    "    for j in contents:\n",
    "        date = j.find_element(By.CSS_SELECTOR, 'td.txt_number').text\n",
    "        report = j.find_element(By.CSS_SELECTOR, 'td.text_l').text\n",
    "        made_by = j.find_element(By.CSS_SELECTOR, 'td:nth-child(5)').text\n",
    "        name = get_name.findall(report)[0]\n",
    "        code = get_code.findall(report)[0]\n",
    "        \n",
    "        # print(date, name, code, made_by)\n",
    "        \n",
    "        \n",
    "        \n",
    "        break\n",
    "    \n",
    "    "
   ]
  },
  {
   "cell_type": "code",
   "execution_count": 49,
   "metadata": {},
   "outputs": [
    {
     "data": {
      "text/plain": [
       "'161390'"
      ]
     },
     "execution_count": 49,
     "metadata": {},
     "output_type": "execute_result"
    }
   ],
   "source": [
    "a = re.compile('.+(?=\\()') # 전방탐색 : [찾고자하는표현식](?=[찾고자하는문자]) : 찾고자하는 문자는 포함하지 않고 싶을 때 씀\n",
    "a.search(\"한국타이어앤테크놀로지(161390)\")\n",
    "\n",
    "b = re.compile('([0-9]{6})')\n",
    "b.findall('한국타이어앤테크놀로지(161390)')[0]\n"
   ]
  },
  {
   "cell_type": "code",
   "execution_count": 81,
   "metadata": {},
   "outputs": [
    {
     "name": "stdout",
     "output_type": "stream",
     "text": [
      "Hi\n",
      "hello None World!\n"
     ]
    }
   ],
   "source": []
  },
  {
   "cell_type": "code",
   "execution_count": null,
   "metadata": {},
   "outputs": [],
   "source": []
  },
  {
   "cell_type": "code",
   "execution_count": null,
   "metadata": {},
   "outputs": [],
   "source": []
  },
  {
   "cell_type": "code",
   "execution_count": null,
   "metadata": {},
   "outputs": [],
   "source": []
  }
 ],
 "metadata": {
  "kernelspec": {
   "display_name": "Python 3.10.4 ('venv': venv)",
   "language": "python",
   "name": "python3"
  },
  "language_info": {
   "codemirror_mode": {
    "name": "ipython",
    "version": 3
   },
   "file_extension": ".py",
   "mimetype": "text/x-python",
   "name": "python",
   "nbconvert_exporter": "python",
   "pygments_lexer": "ipython3",
   "version": "3.10.4"
  },
  "orig_nbformat": 4,
  "vscode": {
   "interpreter": {
    "hash": "c83034efb150ce4d3c12c4c640c9c02f95776738a71f3dcb04f5569bfa9d69be"
   }
  }
 },
 "nbformat": 4,
 "nbformat_minor": 2
}

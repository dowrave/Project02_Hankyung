{
 "cells": [
  {
   "cell_type": "code",
   "execution_count": 155,
   "metadata": {},
   "outputs": [],
   "source": [
    "\n",
    "import pandas as pd\n",
    "import pymysql\n",
    "from sql_info import USER, PASSWORD, DB_NAME\n",
    "from datetime import datetime, timedelta\n",
    "import matplotlib.pyplot as plt\n",
    "from matplotlib import font_manager, rc \n",
    "import seaborn as sns \n",
    "\n",
    "# 한글 깨지는 현상 수정\n",
    "f_path = \"C:/windows/Fonts/malgun.ttf\"\n",
    "font_manager.FontProperties(fname=f_path).get_name()\n",
    "rc('font', family='Malgun Gothic')\n",
    "\n",
    "\n",
    "import warnings\n",
    "warnings.filterwarnings(action = 'ignore')"
   ]
  },
  {
   "cell_type": "code",
   "execution_count": 154,
   "metadata": {},
   "outputs": [
    {
     "name": "stdout",
     "output_type": "stream",
     "text": [
      "2022-08-08\n",
      "Collecting seaborn\n",
      "  Using cached seaborn-0.11.2-py3-none-any.whl (292 kB)\n",
      "Requirement already satisfied: numpy>=1.15 in c:\\users\\dowra\\onedrive\\바탕 화면\\project02 - hankyung\\venv\\lib\\site-packages (from seaborn) (1.23.1)\n",
      "Collecting scipy>=1.0\n",
      "  Downloading scipy-1.9.0-cp310-cp310-win_amd64.whl (38.6 MB)\n",
      "     ---------------------------------------- 38.6/38.6 MB 4.8 MB/s eta 0:00:00\n",
      "Requirement already satisfied: matplotlib>=2.2 in c:\\users\\dowra\\onedrive\\바탕 화면\\project02 - hankyung\\venv\\lib\\site-packages (from seaborn) (3.5.2)\n",
      "Requirement already satisfied: pandas>=0.23 in c:\\users\\dowra\\onedrive\\바탕 화면\\project02 - hankyung\\venv\\lib\\site-packages (from seaborn) (1.4.3)\n",
      "Requirement already satisfied: kiwisolver>=1.0.1 in c:\\users\\dowra\\onedrive\\바탕 화면\\project02 - hankyung\\venv\\lib\\site-packages (from matplotlib>=2.2->seaborn) (1.4.4)\n",
      "Requirement already satisfied: pillow>=6.2.0 in c:\\users\\dowra\\onedrive\\바탕 화면\\project02 - hankyung\\venv\\lib\\site-packages (from matplotlib>=2.2->seaborn) (9.2.0)\n",
      "Requirement already satisfied: pyparsing>=2.2.1 in c:\\users\\dowra\\onedrive\\바탕 화면\\project02 - hankyung\\venv\\lib\\site-packages (from matplotlib>=2.2->seaborn) (3.0.9)\n",
      "Requirement already satisfied: fonttools>=4.22.0 in c:\\users\\dowra\\onedrive\\바탕 화면\\project02 - hankyung\\venv\\lib\\site-packages (from matplotlib>=2.2->seaborn) (4.34.4)\n",
      "Requirement already satisfied: python-dateutil>=2.7 in c:\\users\\dowra\\onedrive\\바탕 화면\\project02 - hankyung\\venv\\lib\\site-packages (from matplotlib>=2.2->seaborn) (2.8.2)\n",
      "Requirement already satisfied: cycler>=0.10 in c:\\users\\dowra\\onedrive\\바탕 화면\\project02 - hankyung\\venv\\lib\\site-packages (from matplotlib>=2.2->seaborn) (0.11.0)\n",
      "Requirement already satisfied: packaging>=20.0 in c:\\users\\dowra\\onedrive\\바탕 화면\\project02 - hankyung\\venv\\lib\\site-packages (from matplotlib>=2.2->seaborn) (21.3)\n",
      "Requirement already satisfied: pytz>=2020.1 in c:\\users\\dowra\\onedrive\\바탕 화면\\project02 - hankyung\\venv\\lib\\site-packages (from pandas>=0.23->seaborn) (2022.1)\n",
      "Requirement already satisfied: six>=1.5 in c:\\users\\dowra\\onedrive\\바탕 화면\\project02 - hankyung\\venv\\lib\\site-packages (from python-dateutil>=2.7->matplotlib>=2.2->seaborn) (1.16.0)\n",
      "Installing collected packages: scipy, seaborn\n",
      "Successfully installed scipy-1.9.0 seaborn-0.11.2\n"
     ]
    },
    {
     "name": "stderr",
     "output_type": "stream",
     "text": [
      "WARNING: You are using pip version 22.0.4; however, version 22.2.1 is available.\n",
      "You should consider upgrading via the 'C:\\Users\\dowra\\OneDrive\\바탕 화면\\Project02 - Hankyung\\venv\\Scripts\\python.exe -m pip install --upgrade pip' command.\n"
     ]
    }
   ],
   "source": [
    "print(str(end_date))\n"
   ]
  },
  {
   "cell_type": "code",
   "execution_count": 124,
   "metadata": {},
   "outputs": [],
   "source": [
    "# 22년 1월 1일부터 데이터가 수집되었음 - 조회시 참고\n",
    "def read_sql_weeks(n):\n",
    "\n",
    "    db = pymysql.connect(host='localhost', user = USER, passwd = PASSWORD, db = DB_NAME, charset = 'utf8')\n",
    "\n",
    "    # 일단 메모리 측면에서 생각해보면 당연히 쿼리를 날려서 일부 데이터만 메모리에 올리는 쪽이 훨씬 효율적일 것\n",
    "\n",
    "    end_date = datetime.today().date()\n",
    "    start_date = end_date - timedelta(weeks = n)\n",
    "    \n",
    "    # query1 = (f\"SELECT r.company as company, r.date as date, r.written_by as written_by, \\\n",
    "    #            c.code as code, c.category as category, r.reports_idx as reports_idx\\\n",
    "    #             FROM reports r \\\n",
    "    #             JOIN companies c \\\n",
    "    #             ON r.company = c.company \\\n",
    "    #             WHERE date >= '{start_date}' and date <= '{end_date}'\")\n",
    "\n",
    "    query1 = (f\"SELECT r.company as company, r.date as date, r.written_by as written_by, \\\n",
    "            c.code as code, c.category as category, r.reports_idx as reports_idx\\\n",
    "            FROM reports r \\\n",
    "            JOIN companies c \\\n",
    "            ON r.company = c.company \\\n",
    "            WHERE date >= '{start_date}' and date <= '{end_date}'\")\n",
    "\n",
    "    \n",
    "    # 미리 merge를 하지 않고, query1에서 조회된 기업들에 대한 데이터만 query2에서 불러오는 방식을 쓰겠음\n",
    "    query2 = (f\"SELECT * \\\n",
    "                FROM companies\")\n",
    "\n",
    "    reports_df = pd.read_sql_query(query1, db)\n",
    "    # reports_df.drop_index()\n",
    "\n",
    "    db.close()\n",
    "    \n",
    "    reports_df['reports_link'] = f\"http://hkconsensus.hankyung.com/apps.analysis/analysis.downpdf?report_idx={reports_df['reports_idx']}\"   \n",
    "    \n",
    "    return reports_df, start_date, end_date"
   ]
  },
  {
   "cell_type": "code",
   "execution_count": 129,
   "metadata": {},
   "outputs": [
    {
     "data": {
      "text/html": [
       "<div>\n",
       "<style scoped>\n",
       "    .dataframe tbody tr th:only-of-type {\n",
       "        vertical-align: middle;\n",
       "    }\n",
       "\n",
       "    .dataframe tbody tr th {\n",
       "        vertical-align: top;\n",
       "    }\n",
       "\n",
       "    .dataframe thead th {\n",
       "        text-align: right;\n",
       "    }\n",
       "</style>\n",
       "<table border=\"1\" class=\"dataframe\">\n",
       "  <thead>\n",
       "    <tr style=\"text-align: right;\">\n",
       "      <th></th>\n",
       "      <th>company</th>\n",
       "      <th>date</th>\n",
       "      <th>written_by</th>\n",
       "      <th>code</th>\n",
       "      <th>category</th>\n",
       "      <th>reports_idx</th>\n",
       "      <th>reports_link</th>\n",
       "    </tr>\n",
       "  </thead>\n",
       "  <tbody>\n",
       "    <tr>\n",
       "      <th>108</th>\n",
       "      <td>클리오</td>\n",
       "      <td>2022-05-16</td>\n",
       "      <td>메리츠증권</td>\n",
       "      <td>237880</td>\n",
       "      <td>화장품</td>\n",
       "      <td>609200</td>\n",
       "      <td>http://hkconsensus.hankyung.com/apps.analysis/...</td>\n",
       "    </tr>\n",
       "    <tr>\n",
       "      <th>109</th>\n",
       "      <td>한화손해보험</td>\n",
       "      <td>2022-05-16</td>\n",
       "      <td>유안타증권</td>\n",
       "      <td>000370</td>\n",
       "      <td>손해보험</td>\n",
       "      <td>609164</td>\n",
       "      <td>http://hkconsensus.hankyung.com/apps.analysis/...</td>\n",
       "    </tr>\n",
       "    <tr>\n",
       "      <th>110</th>\n",
       "      <td>HMM</td>\n",
       "      <td>2022-05-16</td>\n",
       "      <td>이베스트증권</td>\n",
       "      <td>011200</td>\n",
       "      <td>해운사</td>\n",
       "      <td>609125</td>\n",
       "      <td>http://hkconsensus.hankyung.com/apps.analysis/...</td>\n",
       "    </tr>\n",
       "    <tr>\n",
       "      <th>111</th>\n",
       "      <td>대덕전자</td>\n",
       "      <td>2022-05-16</td>\n",
       "      <td>대신증권</td>\n",
       "      <td>353200</td>\n",
       "      <td>전자장비와기기</td>\n",
       "      <td>609109</td>\n",
       "      <td>http://hkconsensus.hankyung.com/apps.analysis/...</td>\n",
       "    </tr>\n",
       "    <tr>\n",
       "      <th>112</th>\n",
       "      <td>대덕전자</td>\n",
       "      <td>2022-05-16</td>\n",
       "      <td>SK증권</td>\n",
       "      <td>353200</td>\n",
       "      <td>전자장비와기기</td>\n",
       "      <td>609091</td>\n",
       "      <td>http://hkconsensus.hankyung.com/apps.analysis/...</td>\n",
       "    </tr>\n",
       "  </tbody>\n",
       "</table>\n",
       "</div>"
      ],
      "text/plain": [
       "    company        date written_by    code category reports_idx  \\\n",
       "108     클리오  2022-05-16      메리츠증권  237880      화장품      609200   \n",
       "109  한화손해보험  2022-05-16      유안타증권  000370     손해보험      609164   \n",
       "110     HMM  2022-05-16     이베스트증권  011200      해운사      609125   \n",
       "111    대덕전자  2022-05-16       대신증권  353200  전자장비와기기      609109   \n",
       "112    대덕전자  2022-05-16       SK증권  353200  전자장비와기기      609091   \n",
       "\n",
       "                                          reports_link  \n",
       "108  http://hkconsensus.hankyung.com/apps.analysis/...  \n",
       "109  http://hkconsensus.hankyung.com/apps.analysis/...  \n",
       "110  http://hkconsensus.hankyung.com/apps.analysis/...  \n",
       "111  http://hkconsensus.hankyung.com/apps.analysis/...  \n",
       "112  http://hkconsensus.hankyung.com/apps.analysis/...  "
      ]
     },
     "execution_count": 129,
     "metadata": {},
     "output_type": "execute_result"
    }
   ],
   "source": [
    "reports_df, start_date, end_date = read_sql_weeks(12)\n",
    "reports_df.tail()"
   ]
  },
  {
   "cell_type": "code",
   "execution_count": 180,
   "metadata": {},
   "outputs": [
    {
     "name": "stdout",
     "output_type": "stream",
     "text": [
      "           category counts\n",
      "전자장비와기기          10    NaN\n",
      "화학                8    NaN\n",
      "제약                8    NaN\n",
      "화장품               7    NaN\n",
      "건강관리장비와용품         6    NaN\n"
     ]
    },
    {
     "data": {
      "text/plain": [
       "<AxesSubplot:ylabel='category'>"
      ]
     },
     "execution_count": 180,
     "metadata": {},
     "output_type": "execute_result"
    },
    {
     "data": {
      "image/png": "[encoded data removed]",
      "text/plain": [
       "<Figure size 1440x720 with 1 Axes>"
      ]
     },
     "metadata": {
      "needs_background": "light"
     },
     "output_type": "display_data"
    }
   ],
   "source": [
    "# import matplotlib.pyplot as plt \n",
    "\n",
    "\n",
    "categories = pd.DataFrame(categories, columns=[\"category\", \"counts\"])\n",
    "print(categories.head())\n",
    "# print(type(categories))\n",
    "# plt.figure(figsize = (20, 10))\n",
    "# plt.title(f'{start_date} ~ {end_date}까지 상향 보고서가 나온 산업 상위 10개')\n",
    "# plt.bar(x.index, x.values)\n",
    "# plt.show()\n",
    "\n",
    "plt.figure(figsize = (20, 10))\n",
    "# sns.countplot(x = 'category', data = reports_df, palette = \"pastel\") # 이거는 조건을 주기가 어려운데?\n",
    "sns.barplot(x = reports_df['category'].value_counts().index[0:10], y = reports_df['category'].value_counts()[0:10])\n"
   ]
  },
  {
   "cell_type": "code",
   "execution_count": 186,
   "metadata": {},
   "outputs": [
    {
     "name": "stdout",
     "output_type": "stream",
     "text": [
      "LG이노텍    4\n",
      "대덕전자     4\n",
      "비에이치     2\n",
      "Name: company, dtype: int64\n",
      "   company        date written_by    code category reports_idx  \\\n",
      "21   LG이노텍  2022-07-29     이베스트증권  011070  전자장비와기기      612004   \n",
      "28   LG이노텍  2022-07-28       SK증권  011070  전자장비와기기      611885   \n",
      "45   LG이노텍  2022-07-05     이베스트증권  011070  전자장비와기기      611060   \n",
      "62   LG이노텍  2022-06-10       대신증권  011070  전자장비와기기      610218   \n",
      "\n",
      "                                         reports_link  \n",
      "21  http://hkconsensus.hankyung.com/apps.analysis/...  \n",
      "28  http://hkconsensus.hankyung.com/apps.analysis/...  \n",
      "45  http://hkconsensus.hankyung.com/apps.analysis/...  \n",
      "62  http://hkconsensus.hankyung.com/apps.analysis/...  \n",
      "    company        date written_by    code category reports_idx  \\\n",
      "60     대덕전자  2022-06-14      유안타증권  353200  전자장비와기기      610333   \n",
      "63     대덕전자  2022-06-08     하이투자증권  353200  전자장비와기기      610126   \n",
      "111    대덕전자  2022-05-16       대신증권  353200  전자장비와기기      609109   \n",
      "112    대덕전자  2022-05-16       SK증권  353200  전자장비와기기      609091   \n",
      "\n",
      "                                          reports_link  \n",
      "60   http://hkconsensus.hankyung.com/apps.analysis/...  \n",
      "63   http://hkconsensus.hankyung.com/apps.analysis/...  \n",
      "111  http://hkconsensus.hankyung.com/apps.analysis/...  \n",
      "112  http://hkconsensus.hankyung.com/apps.analysis/...  \n",
      "   company        date written_by    code category reports_idx  \\\n",
      "50    비에이치  2022-06-29       SK증권  090460  전자장비와기기      610828   \n",
      "64    비에이치  2022-06-08     하이투자증권  090460  전자장비와기기      610125   \n",
      "\n",
      "                                         reports_link  \n",
      "50  http://hkconsensus.hankyung.com/apps.analysis/...  \n",
      "64  http://hkconsensus.hankyung.com/apps.analysis/...  \n"
     ]
    },
    {
     "data": {
      "text/html": [
       "<div>\n",
       "<style scoped>\n",
       "    .dataframe tbody tr th:only-of-type {\n",
       "        vertical-align: middle;\n",
       "    }\n",
       "\n",
       "    .dataframe tbody tr th {\n",
       "        vertical-align: top;\n",
       "    }\n",
       "\n",
       "    .dataframe thead th {\n",
       "        text-align: right;\n",
       "    }\n",
       "</style>\n",
       "<table border=\"1\" class=\"dataframe\">\n",
       "  <thead>\n",
       "    <tr style=\"text-align: right;\">\n",
       "      <th></th>\n",
       "      <th>company</th>\n",
       "      <th>date</th>\n",
       "      <th>written_by</th>\n",
       "      <th>code</th>\n",
       "      <th>category</th>\n",
       "      <th>reports_idx</th>\n",
       "      <th>reports_link</th>\n",
       "    </tr>\n",
       "  </thead>\n",
       "  <tbody>\n",
       "    <tr>\n",
       "      <th>21</th>\n",
       "      <td>LG이노텍</td>\n",
       "      <td>2022-07-29</td>\n",
       "      <td>이베스트증권</td>\n",
       "      <td>011070</td>\n",
       "      <td>전자장비와기기</td>\n",
       "      <td>612004</td>\n",
       "      <td>http://hkconsensus.hankyung.com/apps.analysis/...</td>\n",
       "    </tr>\n",
       "    <tr>\n",
       "      <th>28</th>\n",
       "      <td>LG이노텍</td>\n",
       "      <td>2022-07-28</td>\n",
       "      <td>SK증권</td>\n",
       "      <td>011070</td>\n",
       "      <td>전자장비와기기</td>\n",
       "      <td>611885</td>\n",
       "      <td>http://hkconsensus.hankyung.com/apps.analysis/...</td>\n",
       "    </tr>\n",
       "    <tr>\n",
       "      <th>45</th>\n",
       "      <td>LG이노텍</td>\n",
       "      <td>2022-07-05</td>\n",
       "      <td>이베스트증권</td>\n",
       "      <td>011070</td>\n",
       "      <td>전자장비와기기</td>\n",
       "      <td>611060</td>\n",
       "      <td>http://hkconsensus.hankyung.com/apps.analysis/...</td>\n",
       "    </tr>\n",
       "    <tr>\n",
       "      <th>62</th>\n",
       "      <td>LG이노텍</td>\n",
       "      <td>2022-06-10</td>\n",
       "      <td>대신증권</td>\n",
       "      <td>011070</td>\n",
       "      <td>전자장비와기기</td>\n",
       "      <td>610218</td>\n",
       "      <td>http://hkconsensus.hankyung.com/apps.analysis/...</td>\n",
       "    </tr>\n",
       "  </tbody>\n",
       "</table>\n",
       "</div>"
      ],
      "text/plain": [
       "   company        date written_by    code category reports_idx  \\\n",
       "21   LG이노텍  2022-07-29     이베스트증권  011070  전자장비와기기      612004   \n",
       "28   LG이노텍  2022-07-28       SK증권  011070  전자장비와기기      611885   \n",
       "45   LG이노텍  2022-07-05     이베스트증권  011070  전자장비와기기      611060   \n",
       "62   LG이노텍  2022-06-10       대신증권  011070  전자장비와기기      610218   \n",
       "\n",
       "                                         reports_link  \n",
       "21  http://hkconsensus.hankyung.com/apps.analysis/...  \n",
       "28  http://hkconsensus.hankyung.com/apps.analysis/...  \n",
       "45  http://hkconsensus.hankyung.com/apps.analysis/...  \n",
       "62  http://hkconsensus.hankyung.com/apps.analysis/...  "
      ]
     },
     "execution_count": 186,
     "metadata": {},
     "output_type": "execute_result"
    }
   ],
   "source": [
    "# 어떤 조건의 데이터를 조회하고 싶다면 조건문을 넣으면 됨 : groupby\n",
    "x = reports_df[reports_df['category'] == \"전자장비와기기\"]['company'].value_counts()\n",
    "print(x)\n",
    "\n",
    "for i in x.index:\n",
    "    print(reports_df[reports_df['company'] == f'{i}'])\n",
    "    \n",
    "reports_df[reports_df['company'] == \"LG이노텍\"]"
   ]
  },
  {
   "cell_type": "code",
   "execution_count": null,
   "metadata": {},
   "outputs": [],
   "source": []
  }
 ],
 "metadata": {
  "kernelspec": {
   "display_name": "Python 3.10.4 ('venv': venv)",
   "language": "python",
   "name": "python3"
  },
  "language_info": {
   "codemirror_mode": {
    "name": "ipython",
    "version": 3
   },
   "file_extension": ".py",
   "mimetype": "text/x-python",
   "name": "python",
   "nbconvert_exporter": "python",
   "pygments_lexer": "ipython3",
   "version": "3.10.4"
  },
  "orig_nbformat": 4,
  "vscode": {
   "interpreter": {
    "hash": "c83034efb150ce4d3c12c4c640c9c02f95776738a71f3dcb04f5569bfa9d69be"
   }
  }
 },
 "nbformat": 4,
 "nbformat_minor": 2
}

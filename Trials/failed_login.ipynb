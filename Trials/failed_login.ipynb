{
 "cells": [
  {
   "cell_type": "code",
   "execution_count": null,
   "metadata": {},
   "outputs": [],
   "source": [
    "# 한경 컨센서스 로그인 구현하기\n",
    "# requests로 접근하려 했으니\n",
    "LOGIN_INFO = {\n",
    "    'userId' : 'dowrave@gmail.com',\n",
    "    'userPass' : 'weathering1!'\n",
    "}\n",
    "\n",
    "with requests.Session() as s:\n",
    "    # 개발자 도구 뜯어서 자바 스크립트가 어떻게 작동하는지 확인 필요\n",
    "    login_text = s.post('https://member.hankyung.com/login/ajaxActionLogin.do', data = LOGIN_INFO).text\n",
    "\n",
    "    soup = BeautifulSoup(login_text, 'html.parser')\n",
    "    print(soup)\n",
    "    \n",
    "    # req = requests.get('https://markets.hankyung.com/consensus')\n",
    "    # res = BeautifulSoup(req.text, 'html.parser')\n",
    "    # print(res2)\n",
    "    \n",
    "    \n"
   ]
  }
 ],
 "metadata": {
  "kernelspec": {
   "display_name": "Python 3.10.4 ('venv': venv)",
   "language": "python",
   "name": "python3"
  },
  "language_info": {
   "name": "python",
   "version": "3.10.4"
  },
  "orig_nbformat": 4,
  "vscode": {
   "interpreter": {
    "hash": "c83034efb150ce4d3c12c4c640c9c02f95776738a71f3dcb04f5569bfa9d69be"
   }
  }
 },
 "nbformat": 4,
 "nbformat_minor": 2
}

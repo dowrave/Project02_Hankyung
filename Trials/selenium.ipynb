{
 "cells": [
  {
   "cell_type": "code",
   "execution_count": null,
   "metadata": {},
   "outputs": [],
   "source": [
    "from selenium import webdriver\n",
    "# 뭐가 새로 생겼나보다\n",
    "from selenium.webdriver.common.by import By\n",
    "\n",
    "driver = webdriver.Chrome('./chromedriver.exe')\n",
    "driver.get('https://consensus.hankyung.com')\n",
    "driver.implicitly_wait(2)\n",
    "\n",
    "driver.find_element(By.ID, 'userId').send_keys('dowrave@gmail.com')\n",
    "driver.find_element(By.NAME, 'userPass').send_keys('weathering1!')\n",
    "\n",
    "driver.find_element(By.XPATH, '//*[@id=\"main\"]/div[1]/div/a').click()"
   ]
  }
 ],
 "metadata": {
  "kernelspec": {
   "display_name": "Python 3.10.4 ('venv': venv)",
   "language": "python",
   "name": "python3"
  },
  "language_info": {
   "name": "python",
   "version": "3.10.4"
  },
  "orig_nbformat": 4,
  "vscode": {
   "interpreter": {
    "hash": "c83034efb150ce4d3c12c4c640c9c02f95776738a71f3dcb04f5569bfa9d69be"
   }
  }
 },
 "nbformat": 4,
 "nbformat_minor": 2
}

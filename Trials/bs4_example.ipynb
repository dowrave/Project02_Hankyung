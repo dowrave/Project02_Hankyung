{
 "cells": [
  {
   "cell_type": "code",
   "execution_count": null,
   "metadata": {},
   "outputs": [],
   "source": [
    "# 일단 크롤링에 다시 익숙해져야 할 듯 예제\n",
    "url = \"https://finance.naver.com/item/main.naver?code=004410\"\n",
    "\n",
    "res = requests.get(url) # url의 데이터를 받아 옴\n",
    "\n",
    "print(res.raise_for_status)\n",
    "\n",
    "soup = BeautifulSoup(res.text, 'html.parser') \n",
    "\n",
    "soup.select_one('div.trade_compare>h4.sub_tit7>em>a').text\n"
   ]
  }
 ],
 "metadata": {
  "kernelspec": {
   "display_name": "Python 3.10.4 ('venv': venv)",
   "language": "python",
   "name": "python3"
  },
  "language_info": {
   "name": "python",
   "version": "3.10.4"
  },
  "orig_nbformat": 4,
  "vscode": {
   "interpreter": {
    "hash": "c83034efb150ce4d3c12c4c640c9c02f95776738a71f3dcb04f5569bfa9d69be"
   }
  }
 },
 "nbformat": 4,
 "nbformat_minor": 2
}
